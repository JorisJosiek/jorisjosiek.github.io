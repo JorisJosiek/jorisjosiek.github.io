{
 "cells": [
  {
   "cell_type": "markdown",
   "id": "e597229a-9c3a-4091-b66f-2765697698e6",
   "metadata": {},
   "source": [
    "# Color Gradient Visualization Tool"
   ]
  },
  {
   "cell_type": "markdown",
   "id": "2d701f44-617a-411b-865e-ef2b4eb77175",
   "metadata": {},
   "source": [
    "This is a simple tool to help you visualize a custom color gradient in matplotlib before implementing it into your plots. You define your colors and their corresponding labels and you get a custom colorbar!"
   ]
  },
  {
   "cell_type": "code",
   "execution_count": 1,
   "id": "0c2f54cb-b571-490a-9b45-d3da7fb37642",
   "metadata": {},
   "outputs": [],
   "source": [
    "import numpy as np\n",
    "import matplotlib.pyplot as plt\n",
    "import matplotlib.colors as colors"
   ]
  },
  {
   "cell_type": "markdown",
   "id": "a135025c-8ab0-42ab-827c-fcb198d92fcf",
   "metadata": {},
   "source": [
    "**Make a list of colors and labels here in your preferred format (RGB or HSV):**"
   ]
  },
  {
   "cell_type": "code",
   "execution_count": 2,
   "id": "499339fc-7054-4e76-91ee-7c6aae3b508c",
   "metadata": {},
   "outputs": [],
   "source": [
    "color_format = 'hsv' # This can be 'rgb' or 'hsv'\n",
    "\n",
    "color_list = np.array([[0.0,0.0,0.5],  # H\n",
    "                       [0.0,1,1.0],  # He\n",
    "                       [0.33,1,0.9],  # C\n",
    "                       [0.66,1,1],  # O\n",
    "                       [0.9,0.1,1]]) # Ne\n",
    "\n",
    "label_list = ['H', 'He', 'C', 'O', 'Ne']"
   ]
  },
  {
   "cell_type": "markdown",
   "id": "b3ceda85-809b-4ae8-9cd7-90d4cbfbb073",
   "metadata": {},
   "source": [
    "**Some setup (no need to touch)**"
   ]
  },
  {
   "cell_type": "code",
   "execution_count": 3,
   "id": "3aee1e2d-c99e-48f9-8b8b-a318a16fe934",
   "metadata": {},
   "outputs": [],
   "source": [
    "# Set up colors\n",
    "n_colors = len(color_list)\n",
    "\n",
    "# Set up grid\n",
    "cols = 500\n",
    "rows = 50\n",
    "xs = np.linspace(0,1,cols)\n",
    "ys = np.linspace(0,1,rows)"
   ]
  },
  {
   "cell_type": "markdown",
   "id": "fe2f43e3-63a4-44dc-8214-b94717087f03",
   "metadata": {},
   "source": [
    "**Calculating the pixels**"
   ]
  },
  {
   "cell_type": "code",
   "execution_count": 4,
   "id": "1ad321a9-3eed-4518-bb61-17e323c53927",
   "metadata": {},
   "outputs": [],
   "source": [
    "# Set up RGB image\n",
    "image = np.zeros((rows,cols,3))\n",
    "\n",
    "# Iterate over columns\n",
    "for ic in range(cols):\n",
    "    domain = int(np.floor(ic/cols * (n_colors-1)))\n",
    "    progress = ic/cols * (n_colors-1) - domain\n",
    "    for ir in range(rows):\n",
    "        \n",
    "        # This is a simple linear interpolation between the colors in the chosen format.\n",
    "        # Replace this code with your own interpolation if necessary.\n",
    "        \n",
    "        if color_format == 'hsv':\n",
    "            image[ir,ic] = colors.hsv_to_rgb(color_list[domain]*(1-progress) + color_list[domain+1]*progress)\n",
    "        elif color_format == 'rgb':\n",
    "            image[ir,ic] = color_list[domain]*(1-progress) + color_list[domain+1]*progress\n",
    "        else:\n",
    "            print(\"Incorrect color format ...\")"
   ]
  },
  {
   "cell_type": "markdown",
   "id": "f2644370-8842-4374-8bfb-1b7f63b5410a",
   "metadata": {},
   "source": [
    "**Plotting**"
   ]
  },
  {
   "cell_type": "code",
   "execution_count": 5,
   "id": "6cab914f-3e11-4d8c-8e7e-f8b5e908c693",
   "metadata": {},
   "outputs": [
    {
     "data": {
      "image/png": "[encoded data removed]",
      "text/plain": [
       "<Figure size 1500x300 with 1 Axes>"
      ]
     },
     "metadata": {
      "needs_background": "light"
     },
     "output_type": "display_data"
    }
   ],
   "source": [
    "fig, ax = plt.subplots(1,1,figsize=(10,2),dpi=150)\n",
    "ax.vlines(np.linspace(0, 1, len(color_list)),0,1,color='black',ls='dotted')\n",
    "ax.set_ylim(-0.2,1)\n",
    "ax.set_xlim(-0.05,1.05)\n",
    "ax.imshow(image, aspect='auto', extent=(0,1,0,1))\n",
    "\n",
    "for i in range(len(color_list)):\n",
    "    ax.text(1/(len(color_list)-1)*i, -0.01, label_list[i], va='top', ha='center')\n",
    "\n",
    "plt.axis('off')\n",
    "plt.show()"
   ]
  }
 ],
 "metadata": {
  "kernelspec": {
   "display_name": "Python 3 (ipykernel)",
   "language": "python",
   "name": "python3"
  },
  "language_info": {
   "codemirror_mode": {
    "name": "ipython",
    "version": 3
   },
   "file_extension": ".py",
   "mimetype": "text/x-python",
   "name": "python",
   "nbconvert_exporter": "python",
   "pygments_lexer": "ipython3",
   "version": "3.10.6"
  }
 },
 "nbformat": 4,
 "nbformat_minor": 5
}
